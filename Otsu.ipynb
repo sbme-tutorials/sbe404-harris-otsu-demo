{
 "cells": [
  {
   "cell_type": "code",
   "execution_count": null,
   "metadata": {},
   "outputs": [],
   "source": [
    "import numpy as np\n",
    "\n",
    "def otsu_threshold(im):\n",
    "    # Histogram\n",
    "    pixel_counts = [np.sum(im == i) for i in range(256)]\n",
    "\n",
    "    s_max = (0,-np.inf)\n",
    "    \n",
    "    for threshold in range(256):\n",
    "        # update\n",
    "        n1 = sum(pixel_counts[:threshold])\n",
    "        n2 = sum(pixel_counts[threshold:])\n",
    "\n",
    "        mu_0 = sum([i * pixel_counts[i] for i in range(0,threshold)]) / n1 if n1 > 0 else 0       \n",
    "        mu_1 = sum([i * pixel_counts[i] for i in range(threshold, 256)]) / n2 if n2 > 0 else 0\n",
    "\n",
    "        # calculate \n",
    "        s = n1 * n2 * (mu_0 - mu_1) ** 2\n",
    "\n",
    "        if s > s_max[1]:\n",
    "            s_max = (threshold, s)\n",
    "            \n",
    "    return s_max[0]\n"
   ]
  }
 ],
 "metadata": {
  "kernelspec": {
   "display_name": "Python 3",
   "language": "python",
   "name": "python3"
  },
  "language_info": {
   "codemirror_mode": {
    "name": "ipython",
    "version": 3
   },
   "file_extension": ".py",
   "mimetype": "text/x-python",
   "name": "python",
   "nbconvert_exporter": "python",
   "pygments_lexer": "ipython3",
   "version": "3.7.0"
  }
 },
 "nbformat": 4,
 "nbformat_minor": 2
}
